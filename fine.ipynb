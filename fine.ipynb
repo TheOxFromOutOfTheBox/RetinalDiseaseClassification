{
 "cells": [
  {
   "cell_type": "code",
   "execution_count": 1,
   "metadata": {},
   "outputs": [
    {
     "name": "stderr",
     "output_type": "stream",
     "text": [
      "2022-11-25 06:43:03.210542: I tensorflow/core/platform/cpu_feature_guard.cc:193] This TensorFlow binary is optimized with oneAPI Deep Neural Network Library (oneDNN) to use the following CPU instructions in performance-critical operations:  AVX2 AVX512F AVX512_VNNI FMA\n",
      "To enable them in other operations, rebuild TensorFlow with the appropriate compiler flags.\n",
      "2022-11-25 06:43:03.532095: I tensorflow/core/util/util.cc:169] oneDNN custom operations are on. You may see slightly different numerical results due to floating-point round-off errors from different computation orders. To turn them off, set the environment variable `TF_ENABLE_ONEDNN_OPTS=0`.\n",
      "2022-11-25 06:43:03.605208: W tensorflow/stream_executor/platform/default/dso_loader.cc:64] Could not load dynamic library 'libcudart.so.11.0'; dlerror: libcudart.so.11.0: cannot open shared object file: No such file or directory\n",
      "2022-11-25 06:43:03.605231: I tensorflow/stream_executor/cuda/cudart_stub.cc:29] Ignore above cudart dlerror if you do not have a GPU set up on your machine.\n",
      "2022-11-25 06:43:03.662819: E tensorflow/stream_executor/cuda/cuda_blas.cc:2981] Unable to register cuBLAS factory: Attempting to register factory for plugin cuBLAS when one has already been registered\n",
      "2022-11-25 06:43:04.648581: W tensorflow/stream_executor/platform/default/dso_loader.cc:64] Could not load dynamic library 'libnvinfer.so.7'; dlerror: libnvinfer.so.7: cannot open shared object file: No such file or directory\n",
      "2022-11-25 06:43:04.648636: W tensorflow/stream_executor/platform/default/dso_loader.cc:64] Could not load dynamic library 'libnvinfer_plugin.so.7'; dlerror: libnvinfer_plugin.so.7: cannot open shared object file: No such file or directory\n",
      "2022-11-25 06:43:04.648640: W tensorflow/compiler/tf2tensorrt/utils/py_utils.cc:38] TF-TRT Warning: Cannot dlopen some TensorRT libraries. If you would like to use Nvidia GPU with TensorRT, please make sure the missing libraries mentioned above are installed properly.\n"
     ]
    }
   ],
   "source": [
    "import keras,os\n",
    "from keras.models import Sequential\n",
    "from keras.layers import Dense, Conv2D, MaxPool2D , Flatten, Dropout\n",
    "from keras.preprocessing.image import ImageDataGenerator\n",
    "from keras.utils import to_categorical\n",
    "from tensorflow.keras.applications.vgg16 import VGG16\n",
    "from tensorflow.keras.callbacks import ModelCheckpoint, EarlyStopping, CSVLogger, ReduceLROnPlateau\n",
    "import numpy as np\n",
    "import scipy"
   ]
  },
  {
   "cell_type": "code",
   "execution_count": 2,
   "metadata": {},
   "outputs": [
    {
     "name": "stdout",
     "output_type": "stream",
     "text": [
      "Found 3141 images belonging to 3 classes.\n",
      "Found 90 images belonging to 3 classes.\n"
     ]
    }
   ],
   "source": [
    "trdata = ImageDataGenerator(\n",
    "    rescale= 1./255,\n",
    "    zoom_range= (0.73, 0.9),\n",
    "    horizontal_flip= True,\n",
    "    rotation_range= 10,\n",
    "    width_shift_range= 0.10,\n",
    "    fill_mode= 'constant',\n",
    "    height_shift_range= 0.10,   \n",
    "    brightness_range= (0.55, 0.9),\n",
    ")\n",
    "traindata = trdata.flow_from_directory(\n",
    "    directory=\"/home/kmh/Desktop/newnewdataset/training\",\n",
    "    target_size=(224,224),\n",
    "    batch_size= 32,  \n",
    "    class_mode= 'categorical',\n",
    "    shuffle= True, \n",
    "    seed= 1337\n",
    ")\n",
    "\n",
    "tsdata = ImageDataGenerator(\n",
    "    rescale= 1./255,\n",
    ")\n",
    "testdata = tsdata.flow_from_directory(\n",
    "    directory=\"/home/kmh/Desktop/newnewdataset/testing\", \n",
    "    target_size=(224,224),\n",
    "    batch_size= 32,  \n",
    "    class_mode= 'categorical',\n",
    "    shuffle= True, \n",
    "    seed= 1337\n",
    ")"
   ]
  },
  {
   "cell_type": "code",
   "execution_count": 3,
   "metadata": {},
   "outputs": [],
   "source": [
    "num_classes = len(traindata.class_indices)  \n",
    "train_labels = traindata.classes \n",
    "train_labels = to_categorical(train_labels, num_classes=num_classes)\n",
    "valid_labels = testdata.classes \n",
    "valid_labels = to_categorical(valid_labels, num_classes=num_classes)\n",
    "\n",
    "nb_train_samples = len(traindata.filenames)  \n",
    "nb_valid_samples = len(testdata.filenames)"
   ]
  },
  {
   "cell_type": "code",
   "execution_count": 4,
   "metadata": {},
   "outputs": [
    {
     "name": "stderr",
     "output_type": "stream",
     "text": [
      "2022-11-25 06:43:05.623488: W tensorflow/stream_executor/platform/default/dso_loader.cc:64] Could not load dynamic library 'libcuda.so.1'; dlerror: libcuda.so.1: cannot open shared object file: No such file or directory\n",
      "2022-11-25 06:43:05.624053: W tensorflow/stream_executor/cuda/cuda_driver.cc:263] failed call to cuInit: UNKNOWN ERROR (303)\n",
      "2022-11-25 06:43:05.624076: I tensorflow/stream_executor/cuda/cuda_diagnostics.cc:156] kernel driver does not appear to be running on this host (kmh): /proc/driver/nvidia/version does not exist\n",
      "2022-11-25 06:43:05.625314: I tensorflow/core/platform/cpu_feature_guard.cc:193] This TensorFlow binary is optimized with oneAPI Deep Neural Network Library (oneDNN) to use the following CPU instructions in performance-critical operations:  AVX2 AVX512F AVX512_VNNI FMA\n",
      "To enable them in other operations, rebuild TensorFlow with the appropriate compiler flags.\n"
     ]
    },
    {
     "name": "stdout",
     "output_type": "stream",
     "text": [
      "Model: \"sequential\"\n",
      "_________________________________________________________________\n",
      " Layer (type)                Output Shape              Param #   \n",
      "=================================================================\n",
      " conv2d (Conv2D)             (None, 224, 224, 64)      1792      \n",
      "                                                                 \n",
      " conv2d_1 (Conv2D)           (None, 224, 224, 64)      36928     \n",
      "                                                                 \n",
      " max_pooling2d (MaxPooling2D  (None, 112, 112, 64)     0         \n",
      " )                                                               \n",
      "                                                                 \n",
      " conv2d_2 (Conv2D)           (None, 112, 112, 128)     73856     \n",
      "                                                                 \n",
      " conv2d_3 (Conv2D)           (None, 112, 112, 128)     147584    \n",
      "                                                                 \n",
      " max_pooling2d_1 (MaxPooling  (None, 56, 56, 128)      0         \n",
      " 2D)                                                             \n",
      "                                                                 \n",
      " conv2d_4 (Conv2D)           (None, 56, 56, 256)       295168    \n",
      "                                                                 \n",
      " conv2d_5 (Conv2D)           (None, 56, 56, 256)       590080    \n",
      "                                                                 \n",
      " conv2d_6 (Conv2D)           (None, 56, 56, 256)       590080    \n",
      "                                                                 \n",
      " max_pooling2d_2 (MaxPooling  (None, 28, 28, 256)      0         \n",
      " 2D)                                                             \n",
      "                                                                 \n",
      " conv2d_7 (Conv2D)           (None, 28, 28, 512)       1180160   \n",
      "                                                                 \n",
      " conv2d_8 (Conv2D)           (None, 28, 28, 512)       2359808   \n",
      "                                                                 \n",
      " conv2d_9 (Conv2D)           (None, 28, 28, 512)       2359808   \n",
      "                                                                 \n",
      " max_pooling2d_3 (MaxPooling  (None, 14, 14, 512)      0         \n",
      " 2D)                                                             \n",
      "                                                                 \n",
      " conv2d_10 (Conv2D)          (None, 14, 14, 512)       2359808   \n",
      "                                                                 \n",
      " conv2d_11 (Conv2D)          (None, 14, 14, 512)       2359808   \n",
      "                                                                 \n",
      " conv2d_12 (Conv2D)          (None, 14, 14, 512)       2359808   \n",
      "                                                                 \n",
      " max_pooling2d_4 (MaxPooling  (None, 7, 7, 512)        0         \n",
      " 2D)                                                             \n",
      "                                                                 \n",
      " flatten (Flatten)           (None, 25088)             0         \n",
      "                                                                 \n",
      " dropout (Dropout)           (None, 25088)             0         \n",
      "                                                                 \n",
      " dense (Dense)               (None, 4096)              102764544 \n",
      "                                                                 \n",
      " dense_1 (Dense)             (None, 4096)              16781312  \n",
      "                                                                 \n",
      " dense_2 (Dense)             (None, 3)                 12291     \n",
      "                                                                 \n",
      "=================================================================\n",
      "Total params: 134,272,835\n",
      "Trainable params: 134,272,835\n",
      "Non-trainable params: 0\n",
      "_________________________________________________________________\n"
     ]
    }
   ],
   "source": [
    "model = Sequential()\n",
    "model.add(Conv2D(input_shape=(224,224,3),filters=64,kernel_size=(3,3),padding=\"same\", activation=\"relu\"))\n",
    "model.add(Conv2D(filters=64,kernel_size=(3,3),padding=\"same\", activation=\"relu\"))\n",
    "model.add(MaxPool2D(pool_size=(2,2),strides=(2,2)))\n",
    "model.add(Conv2D(filters=128, kernel_size=(3,3), padding=\"same\", activation=\"relu\"))\n",
    "model.add(Conv2D(filters=128, kernel_size=(3,3), padding=\"same\", activation=\"relu\"))\n",
    "model.add(MaxPool2D(pool_size=(2,2),strides=(2,2)))\n",
    "model.add(Conv2D(filters=256, kernel_size=(3,3), padding=\"same\", activation=\"relu\"))\n",
    "model.add(Conv2D(filters=256, kernel_size=(3,3), padding=\"same\", activation=\"relu\"))\n",
    "model.add(Conv2D(filters=256, kernel_size=(3,3), padding=\"same\", activation=\"relu\"))\n",
    "model.add(MaxPool2D(pool_size=(2,2),strides=(2,2)))\n",
    "model.add(Conv2D(filters=512, kernel_size=(3,3), padding=\"same\", activation=\"relu\"))\n",
    "model.add(Conv2D(filters=512, kernel_size=(3,3), padding=\"same\", activation=\"relu\"))\n",
    "model.add(Conv2D(filters=512, kernel_size=(3,3), padding=\"same\", activation=\"relu\"))\n",
    "model.add(MaxPool2D(pool_size=(2,2),strides=(2,2)))\n",
    "model.add(Conv2D(filters=512, kernel_size=(3,3), padding=\"same\", activation=\"relu\"))\n",
    "model.add(Conv2D(filters=512, kernel_size=(3,3), padding=\"same\", activation=\"relu\"))\n",
    "model.add(Conv2D(filters=512, kernel_size=(3,3), padding=\"same\", activation=\"relu\"))\n",
    "model.add(MaxPool2D(pool_size=(2,2),strides=(2,2)))\n",
    "\n",
    "model.add(Flatten())\n",
    "model.add(Dropout(0.2))\n",
    "model.add(Dense(units=4096,activation=\"relu\"))\n",
    "model.add(Dense(units=4096,activation=\"relu\"))\n",
    "model.add(Dense(units=3, activation=\"softmax\"))\n",
    "\n",
    "model.summary()"
   ]
  },
  {
   "cell_type": "code",
   "execution_count": 5,
   "metadata": {},
   "outputs": [],
   "source": [
    "model.trainable= True\n",
    "model.compile(optimizer= keras.optimizers.Adam(1e-5), loss= 'categorical_crossentropy', metrics= ['accuracy'])"
   ]
  },
  {
   "cell_type": "code",
   "execution_count": 6,
   "metadata": {},
   "outputs": [
    {
     "name": "stdout",
     "output_type": "stream",
     "text": [
      "WARNING:tensorflow:`period` argument is deprecated. Please use `save_freq` to specify the frequency in number of batches seen.\n"
     ]
    }
   ],
   "source": [
    "checkpoint = ModelCheckpoint(\n",
    "    'finetuned_model.h5',\n",
    "    monitor='loss',\n",
    "    verbose=1,\n",
    "    save_best_only=True,\n",
    "    mode='auto',\n",
    "    save_weights_only=False,\n",
    "    period=1\n",
    ")\n",
    "\n",
    "earlystop = EarlyStopping(\n",
    "    monitor='loss',\n",
    "    min_delta=0.001,\n",
    "    patience=3,\n",
    "    verbose=1,\n",
    "    mode='auto'\n",
    ")\n",
    "\n",
    "# csvlogger = CSVLogger(\n",
    "#     filename= \"finetuned_training_csv.log\",\n",
    "#     separator = \",\",\n",
    "#     append = False\n",
    "# )\n",
    "\n",
    "reduceLR = ReduceLROnPlateau(\n",
    "    monitor='loss',\n",
    "    factor=0.1,\n",
    "    patience=3,\n",
    "    verbose=1, \n",
    "    mode='auto'\n",
    ")\n",
    "\n",
    "callbacks = [checkpoint, earlystop, reduceLR]"
   ]
  },
  {
   "cell_type": "code",
   "execution_count": 7,
   "metadata": {},
   "outputs": [
    {
     "name": "stdout",
     "output_type": "stream",
     "text": [
      "Epoch 1/15\n",
      "\n",
      "Epoch 1: loss improved from inf to 0.98612, saving model to finetuned_model.h5\n",
      "98/98 - 1082s - loss: 0.9861 - accuracy: 0.5088 - val_loss: 0.8904 - val_accuracy: 0.5000 - lr: 1.0000e-05 - 1082s/epoch - 11s/step\n",
      "Epoch 2/15\n",
      "\n",
      "Epoch 2: loss improved from 0.98612 to 0.78882, saving model to finetuned_model.h5\n",
      "98/98 - 1070s - loss: 0.7888 - accuracy: 0.6253 - val_loss: 0.9710 - val_accuracy: 0.6094 - lr: 1.0000e-05 - 1070s/epoch - 11s/step\n",
      "Epoch 3/15\n",
      "\n",
      "Epoch 3: loss improved from 0.78882 to 0.65427, saving model to finetuned_model.h5\n",
      "98/98 - 1129s - loss: 0.6543 - accuracy: 0.6845 - val_loss: 0.7938 - val_accuracy: 0.5781 - lr: 1.0000e-05 - 1129s/epoch - 12s/step\n",
      "Epoch 4/15\n",
      "\n",
      "Epoch 4: loss improved from 0.65427 to 0.59315, saving model to finetuned_model.h5\n",
      "98/98 - 1145s - loss: 0.5931 - accuracy: 0.7050 - val_loss: 0.7682 - val_accuracy: 0.6719 - lr: 1.0000e-05 - 1145s/epoch - 12s/step\n",
      "Epoch 5/15\n",
      "\n",
      "Epoch 5: loss improved from 0.59315 to 0.55577, saving model to finetuned_model.h5\n",
      "98/98 - 1152s - loss: 0.5558 - accuracy: 0.7115 - val_loss: 0.8138 - val_accuracy: 0.5469 - lr: 1.0000e-05 - 1152s/epoch - 12s/step\n",
      "Epoch 6/15\n",
      "\n",
      "Epoch 6: loss improved from 0.55577 to 0.52330, saving model to finetuned_model.h5\n",
      "98/98 - 1133s - loss: 0.5233 - accuracy: 0.7395 - val_loss: 0.8090 - val_accuracy: 0.6562 - lr: 1.0000e-05 - 1133s/epoch - 12s/step\n",
      "Epoch 7/15\n",
      "\n",
      "Epoch 7: loss improved from 0.52330 to 0.46817, saving model to finetuned_model.h5\n",
      "98/98 - 1105s - loss: 0.4682 - accuracy: 0.7755 - val_loss: 0.8868 - val_accuracy: 0.6094 - lr: 1.0000e-05 - 1105s/epoch - 11s/step\n",
      "Epoch 8/15\n",
      "\n",
      "Epoch 8: loss improved from 0.46817 to 0.41751, saving model to finetuned_model.h5\n",
      "98/98 - 1136s - loss: 0.4175 - accuracy: 0.8083 - val_loss: 0.8818 - val_accuracy: 0.7031 - lr: 1.0000e-05 - 1136s/epoch - 12s/step\n",
      "Epoch 9/15\n",
      "\n",
      "Epoch 9: loss improved from 0.41751 to 0.37883, saving model to finetuned_model.h5\n",
      "98/98 - 1150s - loss: 0.3788 - accuracy: 0.8218 - val_loss: 0.8536 - val_accuracy: 0.6250 - lr: 1.0000e-05 - 1150s/epoch - 12s/step\n",
      "Epoch 10/15\n",
      "\n",
      "Epoch 10: loss improved from 0.37883 to 0.33480, saving model to finetuned_model.h5\n",
      "98/98 - 1147s - loss: 0.3348 - accuracy: 0.8514 - val_loss: 1.2592 - val_accuracy: 0.6406 - lr: 1.0000e-05 - 1147s/epoch - 12s/step\n",
      "Epoch 11/15\n",
      "\n",
      "Epoch 11: loss did not improve from 0.33480\n",
      "98/98 - 1113s - loss: 0.3545 - accuracy: 0.8475 - val_loss: 0.6165 - val_accuracy: 0.7500 - lr: 1.0000e-05 - 1113s/epoch - 11s/step\n",
      "Epoch 12/15\n",
      "\n",
      "Epoch 12: loss improved from 0.33480 to 0.31011, saving model to finetuned_model.h5\n",
      "98/98 - 1175s - loss: 0.3101 - accuracy: 0.8620 - val_loss: 1.7311 - val_accuracy: 0.5938 - lr: 1.0000e-05 - 1175s/epoch - 12s/step\n",
      "Epoch 13/15\n",
      "\n",
      "Epoch 13: loss improved from 0.31011 to 0.29003, saving model to finetuned_model.h5\n",
      "98/98 - 1128s - loss: 0.2900 - accuracy: 0.8810 - val_loss: 0.9779 - val_accuracy: 0.6406 - lr: 1.0000e-05 - 1128s/epoch - 12s/step\n",
      "Epoch 14/15\n",
      "\n",
      "Epoch 14: loss improved from 0.29003 to 0.26182, saving model to finetuned_model.h5\n",
      "98/98 - 1135s - loss: 0.2618 - accuracy: 0.8932 - val_loss: 1.2246 - val_accuracy: 0.6406 - lr: 1.0000e-05 - 1135s/epoch - 12s/step\n",
      "Epoch 15/15\n",
      "\n",
      "Epoch 15: loss improved from 0.26182 to 0.21961, saving model to finetuned_model.h5\n",
      "98/98 - 1114s - loss: 0.2196 - accuracy: 0.9106 - val_loss: 1.9634 - val_accuracy: 0.5938 - lr: 1.0000e-05 - 1114s/epoch - 11s/step\n"
     ]
    }
   ],
   "source": [
    "history = model.fit(\n",
    "    traindata, \n",
    "    epochs = 15,\n",
    "    steps_per_epoch = nb_train_samples//32,\n",
    "    validation_data = testdata, \n",
    "    validation_steps = nb_valid_samples//32,\n",
    "    verbose = 2,\n",
    "    callbacks = callbacks,\n",
    "    shuffle = True\n",
    ")"
   ]
  }
 ],
 "metadata": {
  "kernelspec": {
   "display_name": "Python 3.10.6 ('env': venv)",
   "language": "python",
   "name": "python3"
  },
  "language_info": {
   "codemirror_mode": {
    "name": "ipython",
    "version": 3
   },
   "file_extension": ".py",
   "mimetype": "text/x-python",
   "name": "python",
   "nbconvert_exporter": "python",
   "pygments_lexer": "ipython3",
   "version": "3.10.6"
  },
  "orig_nbformat": 4,
  "vscode": {
   "interpreter": {
    "hash": "b3860b29b9db5bc4a29043adf5b0cc45202791962b1260ffb7220e148e44d15a"
   }
  }
 },
 "nbformat": 4,
 "nbformat_minor": 2
}
